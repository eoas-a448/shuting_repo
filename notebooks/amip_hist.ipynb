{
 "cells": [
  {
   "cell_type": "code",
   "execution_count": 13,
   "metadata": {},
   "outputs": [],
   "source": [
    "from matplotlib import pyplot as plt\n",
    "import pandas as pd\n",
    "import netCDF4\n",
    "import numpy as np\n",
    "from mpl_toolkits.basemap import Basemap"
   ]
  },
  {
   "cell_type": "code",
   "execution_count": 2,
   "metadata": {},
   "outputs": [
    {
     "name": "stdout",
     "output_type": "stream",
     "text": [
      "<class 'netCDF4._netCDF4.Dataset'>\n",
      "root group (NETCDF3_CLASSIC data model, file format NETCDF3):\n",
      "    Conventions: CF-1.7 CMIP-6.2\n",
      "    activity_id: GMMIP\n",
      "    branch_method: no parent\n",
      "    branch_time_in_child: 0.0\n",
      "    branch_time_in_parent: 0.0\n",
      "    comment: This experiment starts from January 1870 to December 2014 under the evolving, externally imposed forcings and boundary conditions downloaded from CMIP6 websites. The initial status is from year 25 of a control run under the observed forcing at 1870.\n",
      "    contact: Dr. Tongwen Wu(twwu@cma.gov.cn)\n",
      "    creation_date: 2019-06-06T01:29:33Z\n",
      "    data_specs_version: 01.00.27\n",
      "    description: GMMIP:amip-hist\n",
      "    experiment: AMIP-style simulation covering the period 1870-2014\n",
      "    experiment_id: amip-hist\n",
      "    external_variables: areacella\n",
      "    forcing_index: 1\n",
      "    frequency: mon\n",
      "    further_info_url: https://furtherinfo.es-doc.org/CMIP6.BCC.BCC-CSM2-MR.amip-hist.none.r1i1p1f1\n",
      "    grid: T106\n",
      "    grid_label: gn\n",
      "    history: 2019-06-06T01:29:32Z ; CMOR rewrote data to be consistent with CMIP6, CF-1.7 CMIP-6.2 and CF standards.\n",
      "    initialization_index: 1\n",
      "    institution: Beijing Climate Center, Beijing 100081, China\n",
      "    institution_id: BCC\n",
      "    mip_era: CMIP6\n",
      "    nominal_resolution: 100 km\n",
      "    parent_activity_id: no parent\n",
      "    parent_experiment_id: no parent\n",
      "    parent_mip_era: no parent\n",
      "    parent_source_id: no parent\n",
      "    physics_index: 1\n",
      "    product: model-output\n",
      "    realization_index: 1\n",
      "    realm: atmos\n",
      "    references: Model described by Tongwen Wu et al. (JGR 2013; JMR 2014; GMD 2019). Also see http://forecast.bcccsm.ncc-cma.net/htm\n",
      "    run_variant: forcing: SST,SIC,greenhouse gases,solar constant,aerosol,volcano mass,land use,ozone\n",
      "    source: BCC-CSM 2 MR (2017):   aerosol: none  atmos: BCC_AGCM3_MR (T106; 320 x 160 longitude/latitude; 46 levels; top level 1.46 hPa)  atmosChem: none  land: BCC_AVIM2  landIce: none  ocean: MOM4 (1/3 deg 10S-10N, 1/3-1 deg 10-30 N/S, and 1 deg in high latitudes; 360 x 232 longitude/latitude; 40 levels; top grid cell 0-10 m)  ocnBgchem: none  seaIce: SIS2\n",
      "    source_id: BCC-CSM2-MR\n",
      "    source_type: AGCM\n",
      "    sub_experiment: none\n",
      "    sub_experiment_id: none\n",
      "    table_id: Amon\n",
      "    table_info: Creation Date:(30 July 2018) MD5:e53ff52009d0b97d9d867dc12b6096c7\n",
      "    title: BCC-CSM2-MR output prepared for CMIP6\n",
      "    tracking_id: hdl:21.14100/b48ec44a-32fc-44e4-9f56-e62b88a3a5ad\n",
      "    variable_id: rlutcs\n",
      "    variant_label: r1i1p1f1\n",
      "    license: CMIP6 model data produced by BCC is licensed under a Creative Commons Attribution ShareAlike 4.0 International License (https://creativecommons.org/licenses). Consult https://pcmdi.llnl.gov/CMIP6/TermsOfUse for terms of use governing CMIP6 output, including citation requirements and proper acknowledgment. Further information about this data, including some limitations, can be found via the further_info_url (recorded as a global attribute in this file) and at https:///pcmdi.llnl.gov/. The data producers and data providers make no warranty, either express or implied, including, but not limited to, warranties of merchantability and fitness for a particular purpose. All liabilities arising from the supply of the information (including any liability arising in negligence) are excluded to the fullest extent permitted by law.\n",
      "    cmor_version: 3.3.2\n",
      "    dimensions(sizes): time(1740), lat(160), lon(320), bnds(2)\n",
      "    variables(dimensions): float64 time(time), float64 time_bnds(time,bnds), float64 lat(lat), float64 lat_bnds(lat,bnds), float64 lon(lon), float64 lon_bnds(lon,bnds), float32 rlutcs(time,lat,lon)\n",
      "    groups: \n"
     ]
    }
   ],
   "source": [
    "fp='amip_hist.nc'\n",
    "nc = netCDF4.Dataset(fp)\n",
    "plt.show()\n",
    "print(nc)"
   ]
  },
  {
   "cell_type": "code",
   "execution_count": 3,
   "metadata": {},
   "outputs": [
    {
     "name": "stdout",
     "output_type": "stream",
     "text": [
      "{'Conventions': 'CF-1.7 CMIP-6.2', 'activity_id': 'GMMIP', 'branch_method': 'no parent', 'branch_time_in_child': 0.0, 'branch_time_in_parent': 0.0, 'comment': 'This experiment starts from January 1870 to December 2014 under the evolving, externally imposed forcings and boundary conditions downloaded from CMIP6 websites. The initial status is from year 25 of a control run under the observed forcing at 1870.', 'contact': 'Dr. Tongwen Wu(twwu@cma.gov.cn)', 'creation_date': '2019-06-06T01:29:33Z', 'data_specs_version': '01.00.27', 'description': 'GMMIP:amip-hist', 'experiment': 'AMIP-style simulation covering the period 1870-2014', 'experiment_id': 'amip-hist', 'external_variables': 'areacella', 'forcing_index': 1, 'frequency': 'mon', 'further_info_url': 'https://furtherinfo.es-doc.org/CMIP6.BCC.BCC-CSM2-MR.amip-hist.none.r1i1p1f1', 'grid': 'T106', 'grid_label': 'gn', 'history': '2019-06-06T01:29:32Z ; CMOR rewrote data to be consistent with CMIP6, CF-1.7 CMIP-6.2 and CF standards.', 'initialization_index': 1, 'institution': 'Beijing Climate Center, Beijing 100081, China', 'institution_id': 'BCC', 'mip_era': 'CMIP6', 'nominal_resolution': '100 km', 'parent_activity_id': 'no parent', 'parent_experiment_id': 'no parent', 'parent_mip_era': 'no parent', 'parent_source_id': 'no parent', 'physics_index': 1, 'product': 'model-output', 'realization_index': 1, 'realm': 'atmos', 'references': 'Model described by Tongwen Wu et al. (JGR 2013; JMR 2014; GMD 2019). Also see http://forecast.bcccsm.ncc-cma.net/htm', 'run_variant': 'forcing: SST,SIC,greenhouse gases,solar constant,aerosol,volcano mass,land use,ozone', 'source': 'BCC-CSM 2 MR (2017):   aerosol: none  atmos: BCC_AGCM3_MR (T106; 320 x 160 longitude/latitude; 46 levels; top level 1.46 hPa)  atmosChem: none  land: BCC_AVIM2  landIce: none  ocean: MOM4 (1/3 deg 10S-10N, 1/3-1 deg 10-30 N/S, and 1 deg in high latitudes; 360 x 232 longitude/latitude; 40 levels; top grid cell 0-10 m)  ocnBgchem: none  seaIce: SIS2', 'source_id': 'BCC-CSM2-MR', 'source_type': 'AGCM', 'sub_experiment': 'none', 'sub_experiment_id': 'none', 'table_id': 'Amon', 'table_info': 'Creation Date:(30 July 2018) MD5:e53ff52009d0b97d9d867dc12b6096c7', 'title': 'BCC-CSM2-MR output prepared for CMIP6', 'tracking_id': 'hdl:21.14100/b48ec44a-32fc-44e4-9f56-e62b88a3a5ad', 'variable_id': 'rlutcs', 'variant_label': 'r1i1p1f1', 'license': 'CMIP6 model data produced by BCC is licensed under a Creative Commons Attribution ShareAlike 4.0 International License (https://creativecommons.org/licenses). Consult https://pcmdi.llnl.gov/CMIP6/TermsOfUse for terms of use governing CMIP6 output, including citation requirements and proper acknowledgment. Further information about this data, including some limitations, can be found via the further_info_url (recorded as a global attribute in this file) and at https:///pcmdi.llnl.gov/. The data producers and data providers make no warranty, either express or implied, including, but not limited to, warranties of merchantability and fitness for a particular purpose. All liabilities arising from the supply of the information (including any liability arising in negligence) are excluded to the fullest extent permitted by law.', 'cmor_version': '3.3.2'}\n"
     ]
    }
   ],
   "source": [
    "print(nc.__dict__)"
   ]
  },
  {
   "cell_type": "code",
   "execution_count": 4,
   "metadata": {},
   "outputs": [
    {
     "name": "stdout",
     "output_type": "stream",
     "text": [
      "<class 'netCDF4._netCDF4.Dimension'> (unlimited): name = 'time', size = 1740\n",
      "<class 'netCDF4._netCDF4.Dimension'>: name = 'lat', size = 160\n",
      "<class 'netCDF4._netCDF4.Dimension'>: name = 'lon', size = 320\n",
      "<class 'netCDF4._netCDF4.Dimension'>: name = 'bnds', size = 2\n"
     ]
    }
   ],
   "source": [
    "for dim in nc.dimensions.values():\n",
    "    print(dim)"
   ]
  },
  {
   "cell_type": "code",
   "execution_count": 5,
   "metadata": {},
   "outputs": [
    {
     "name": "stdout",
     "output_type": "stream",
     "text": [
      "<class 'netCDF4._netCDF4.Variable'>\n",
      "float64 time(time)\n",
      "    bounds: time_bnds\n",
      "    units: days since 1870-01-01\n",
      "    calendar: 365_day\n",
      "    axis: T\n",
      "    long_name: time\n",
      "    standard_name: time\n",
      "unlimited dimensions: time\n",
      "current shape = (1740,)\n",
      "filling on, default _FillValue of 9.969209968386869e+36 used\n",
      "<class 'netCDF4._netCDF4.Variable'>\n",
      "float64 time_bnds(time, bnds)\n",
      "unlimited dimensions: time\n",
      "current shape = (1740, 2)\n",
      "filling on, default _FillValue of 9.969209968386869e+36 used\n",
      "<class 'netCDF4._netCDF4.Variable'>\n",
      "float64 lat(lat)\n",
      "    bounds: lat_bnds\n",
      "    units: degrees_north\n",
      "    axis: Y\n",
      "    long_name: latitude\n",
      "    standard_name: latitude\n",
      "unlimited dimensions: \n",
      "current shape = (160,)\n",
      "filling on, default _FillValue of 9.969209968386869e+36 used\n",
      "<class 'netCDF4._netCDF4.Variable'>\n",
      "float64 lat_bnds(lat, bnds)\n",
      "unlimited dimensions: \n",
      "current shape = (160, 2)\n",
      "filling on, default _FillValue of 9.969209968386869e+36 used\n",
      "<class 'netCDF4._netCDF4.Variable'>\n",
      "float64 lon(lon)\n",
      "    bounds: lon_bnds\n",
      "    units: degrees_east\n",
      "    axis: X\n",
      "    long_name: Longitude\n",
      "    standard_name: longitude\n",
      "unlimited dimensions: \n",
      "current shape = (320,)\n",
      "filling on, default _FillValue of 9.969209968386869e+36 used\n",
      "<class 'netCDF4._netCDF4.Variable'>\n",
      "float64 lon_bnds(lon, bnds)\n",
      "unlimited dimensions: \n",
      "current shape = (320, 2)\n",
      "filling on, default _FillValue of 9.969209968386869e+36 used\n",
      "<class 'netCDF4._netCDF4.Variable'>\n",
      "float32 rlutcs(time, lat, lon)\n",
      "    standard_name: toa_outgoing_longwave_flux_assuming_clear_sky\n",
      "    long_name: TOA Outgoing Clear-Sky Longwave Radiation\n",
      "    comment: Upwelling clear-sky longwave radiation at top of atmosphere\n",
      "    units: W m-2\n",
      "    original_name: RLUTCS\n",
      "    cell_methods: area: time: mean (interval: 5 minutes)\n",
      "    cell_measures: area: areacella\n",
      "    missing_value: 1e+20\n",
      "    _FillValue: 1e+20\n",
      "unlimited dimensions: time\n",
      "current shape = (1740, 160, 320)\n",
      "filling on\n"
     ]
    }
   ],
   "source": [
    "for var in nc.variables.values():\n",
    "    print(var)"
   ]
  },
  {
   "cell_type": "code",
   "execution_count": 107,
   "metadata": {},
   "outputs": [
    {
     "name": "stdout",
     "output_type": "stream",
     "text": [
      "W m-2\n"
     ]
    }
   ],
   "source": [
    "lat = nc['lat'][:]\n",
    "lon = nc['lon'][:]\n",
    "rlutcs_var=nc['rlutcs'][0,:,:]\n",
    "rlutcs_units=nc['rlutcs'].units\n",
    "#time_var = nc['time'][:]\n",
    "#time_units = nc['time'].units\n",
    "#dtime = netCDF4.num2date(time_var[:],time_units)\n",
    "print(rlutcs_units)"
   ]
  },
  {
   "cell_type": "code",
   "execution_count": null,
   "metadata": {},
   "outputs": [],
   "source": []
  },
  {
   "cell_type": "code",
   "execution_count": 108,
   "metadata": {},
   "outputs": [
    {
     "name": "stdout",
     "output_type": "stream",
     "text": [
      "0.0 358.875\n"
     ]
    }
   ],
   "source": [
    "print (lon.min(),lon.max())"
   ]
  },
  {
   "cell_type": "code",
   "execution_count": 109,
   "metadata": {},
   "outputs": [
    {
     "name": "stdout",
     "output_type": "stream",
     "text": [
      "-89.1415194264611 89.1415194264611\n"
     ]
    }
   ],
   "source": [
    "print (lat.min(),lat.max())"
   ]
  },
  {
   "cell_type": "code",
   "execution_count": 110,
   "metadata": {},
   "outputs": [],
   "source": [
    "lon_0 = lon.mean()\n",
    "lat_0 = lat.mean()\n",
    "m = Basemap(width=5000000,height=3500000,\n",
    "            resolution='l',projection='stere',\\\n",
    "            lat_ts=40,lat_0=lat_0,lon_0=lon_0)"
   ]
  },
  {
   "cell_type": "code",
   "execution_count": 111,
   "metadata": {},
   "outputs": [],
   "source": [
    "lon, lat = np.meshgrid(lon, lat)\n",
    "xi, yi = m(lon, lat)"
   ]
  },
  {
   "cell_type": "code",
   "execution_count": 113,
   "metadata": {},
   "outputs": [
    {
     "data": {
      "image/png": "[encoded data removed]",
      "text/plain": [
       "<Figure size 432x288 with 2 Axes>"
      ]
     },
     "metadata": {
      "needs_background": "light"
     },
     "output_type": "display_data"
    }
   ],
   "source": [
    "# Plot Data\n",
    "cs = m.pcolor(xi,yi,np.squeeze(rlutcs_var))\n",
    "\n",
    "# Add Grid Lines\n",
    "m.drawparallels(np.arange(-80., 81., 10.), labels=[1,0,0,0], fontsize=10)\n",
    "m.drawmeridians(np.arange(-180., 181., 10.), labels=[0,0,0,1], fontsize=10)\n",
    "\n",
    "# Add Coastlines, States, and Country Boundaries\n",
    "m.drawcoastlines()\n",
    "m.drawstates()\n",
    "m.drawcountries()\n",
    "\n",
    "# Add Colorbar\n",
    "cbar = m.colorbar(cs, location='bottom', pad=\"10%\")\n",
    "cbar.set_label(rlutcs_units)\n",
    "\n",
    "# Add Title\n",
    "plt.title('Outgoing longwave flux')\n",
    "\n",
    "plt.show()"
   ]
  },
  {
   "cell_type": "code",
   "execution_count": null,
   "metadata": {},
   "outputs": [],
   "source": []
  }
 ],
 "metadata": {
  "jupytext": {
   "cell_metadata_filter": "all",
   "notebook_metadata_filter": "all,-language_info",
   "text_representation": {
    "extension": ".py",
    "format_name": "percent",
    "format_version": "1.3",
    "jupytext_version": "1.4.0"
   }
  },
  "kernelspec": {
   "display_name": "Python 3",
   "language": "python",
   "name": "python3"
  },
  "language_info": {
   "codemirror_mode": {
    "name": "ipython",
    "version": 3
   },
   "file_extension": ".py",
   "mimetype": "text/x-python",
   "name": "python",
   "nbconvert_exporter": "python",
   "pygments_lexer": "ipython3",
   "version": "3.7.6"
  }
 },
 "nbformat": 4,
 "nbformat_minor": 4
}
